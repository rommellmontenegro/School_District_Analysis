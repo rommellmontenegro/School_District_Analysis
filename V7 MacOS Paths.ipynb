{
 "cells": [
  {
   "cell_type": "markdown",
   "id": "f9723cf5-5cbb-4dbd-925e-7931b152b4aa",
   "metadata": {
    "tags": []
   },
   "source": [
    "### ***DataFrame of paths of MacOS File folders***"
   ]
  },
  {
   "cell_type": "code",
   "execution_count": 3,
   "id": "51c8867a-b3f0-445f-a203-d832b489621e",
   "metadata": {},
   "outputs": [],
   "source": [
    "from time import mktime\n",
    "import datetime\n",
    "from datetime import datetime\n",
    "import pandas as pd\n",
    "import os\n",
    "\n",
    "d = datetime.now()\n",
    "only_date, only_time = d.date(), d.time()\n",
    "only_date = only_date.strftime('%Y.%m.%d')\n",
    "only_time = only_time.strftime('%H.%M')\n",
    "\n",
    "def read_folder_to_dataframe(folder_path):\n",
    "    \"\"\"Reads file names and paths from a directory into a DataFrame.\"\"\"\n",
    "\n",
    "    folder_list = []\n",
    "    for root, dirs, files in os.walk(folder_path):\n",
    "        for folders in dirs:\n",
    "            folder_path = os.path.join(root, folders)\n",
    "            folder_list.append({'Folder Name': folders, 'Path': folder_path})\n",
    "            \n",
    "    return pd.DataFrame(folder_list)\n",
    "\n",
    "# Example usage\n",
    "folders_to_read = '/Volumes/Files/2022 MacBook Pro/Recordings/Video Diary - rommellvega/'\n",
    "\n",
    "df = read_folder_to_dataframe(folders_to_read)\n",
    "\n",
    "tabname = 'MacOSFolders'\n",
    "Local = \"/Users/rommellmontenegro/Desktop/Civil Suit*/5 - Mobile Graphic & Video Media/RICO Album Tables/\"\n",
    "HD_Dest = Local + only_date + \"_\" + only_time + \"_\" + tabname + \"_MacOS_Paths.xlsx\"\n",
    "\n",
    "with pd.ExcelWriter(HD_Dest) as writer:\n",
    "    df.to_excel(writer, sheet_name=tabname)"
   ]
  },
  {
   "cell_type": "markdown",
   "id": "5bfe2c4c-aa68-4683-a800-01ee5ab155bc",
   "metadata": {},
   "source": [
    "### ***DataFrame of paths of MacOS Files***"
   ]
  },
  {
   "cell_type": "code",
   "execution_count": null,
   "id": "e7ead6a3-4fe5-4ab6-af56-baed0877847b",
   "metadata": {},
   "outputs": [],
   "source": []
  },
  {
   "cell_type": "code",
   "execution_count": 7,
   "id": "f072e884-c96d-464f-9eb6-05a996e249f7",
   "metadata": {},
   "outputs": [],
   "source": [
    "from time import mktime\n",
    "import datetime\n",
    "from datetime import datetime\n",
    "import pandas as pd\n",
    "import os\n",
    "\n",
    "d = datetime.now()\n",
    "only_date, only_time = d.date(), d.time()\n",
    "only_date = only_date.strftime('%Y.%m.%d')\n",
    "only_time = only_time.strftime('%H.%M')\n",
    "\n",
    "def read_folder_to_dataframe(folder_path):\n",
    "    \"\"\"Reads file names and paths from a directory into a DataFrame.\"\"\"\n",
    "\n",
    "    file_list = []\n",
    "    for root, dirs, files in os.walk(folder_path):\n",
    "        for file in files:\n",
    "            file_path = os.path.join(root, file)\n",
    "            file_size = os.path.getsize(file_path)\n",
    "            file_list.append({'filename': file, 'Location': file_path, 'filesize': file_size})\n",
    "            \n",
    "    return pd.DataFrame(file_list)\n",
    "\n",
    "# Example usage\n",
    "folders_to_read = '/Volumes/Files/2022 MacBook Pro/Recordings/Video Diary - rommellvega/'\n",
    "\n",
    "df = read_folder_to_dataframe(folders_to_read)\n",
    "\n",
    "value_to_remove = '.DS_Store'\n",
    "df = df[df['File Name'] != value_to_remove]\n",
    "\n",
    "tabname = 'MacOSFolders'\n",
    "Local = \"/Users/rommellmontenegro/Desktop/Civil Suit*/5 - Mobile Graphic & Video Media/RICO Album Tables/\"\n",
    "HD_Dest = Local + only_date + \"_\" + only_time + \"_\" + tabname + \"_MacOS_Paths_of_Files.xlsx\"\n",
    "\n",
    "with pd.ExcelWriter(HD_Dest) as writer:\n",
    "    df.to_excel(writer, sheet_name=tabname)"
   ]
  },
  {
   "cell_type": "code",
   "execution_count": null,
   "id": "114dfcdd-e29c-4bce-9e38-84b5b8c0e6b8",
   "metadata": {},
   "outputs": [],
   "source": []
  }
 ],
 "metadata": {
  "kernelspec": {
   "display_name": "Python 3 (ipykernel)",
   "language": "python",
   "name": "python3"
  },
  "language_info": {
   "codemirror_mode": {
    "name": "ipython",
    "version": 3
   },
   "file_extension": ".py",
   "mimetype": "text/x-python",
   "name": "python",
   "nbconvert_exporter": "python",
   "pygments_lexer": "ipython3",
   "version": "3.8.8"
  }
 },
 "nbformat": 4,
 "nbformat_minor": 5
}
